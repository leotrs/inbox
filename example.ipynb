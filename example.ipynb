{
 "cells": [
  {
   "cell_type": "markdown",
   "metadata": {},
   "source": [
    "# INBOX: (I)nspect the (N)on-(B)acktracking (o)r (X)-centrality of graphs\n",
    "\n",
    "This notebook contains example usage of all functions found in the `inbox` package. It is meant to be additional documentation on top of the docstrings provided in the source code. This document is not meant to contain a deep explanation of the underlying concepts. For that, please see the paper."
   ]
  },
  {
   "cell_type": "code",
   "execution_count": 1,
   "metadata": {},
   "outputs": [],
   "source": [
    "import inbox\n",
    "import numpy as np\n",
    "import networkx as nx\n",
    "import scipy.sparse as sparse\n",
    "import matplotlib.pylab as plt"
   ]
  },
  {
   "cell_type": "markdown",
   "metadata": {},
   "source": [
    "For all our examples we will use the Karate Club network,"
   ]
  },
  {
   "cell_type": "code",
   "execution_count": 2,
   "metadata": {},
   "outputs": [],
   "source": [
    "graph = nx.karate_club_graph()"
   ]
  },
  {
   "cell_type": "markdown",
   "metadata": {},
   "source": [
    "`inbox` provides functions that compute three different related topics: matrices, centralities, and targeted immunization, presented in the following sections. If you plan on using `inbox` for heavy duty computing (large and/or many networks), please also read the final section \"Implementation Notes\"."
   ]
  },
  {
   "cell_type": "markdown",
   "metadata": {},
   "source": [
    "-----\n",
    "\n",
    "# Matrices"
   ]
  },
  {
   "cell_type": "markdown",
   "metadata": {},
   "source": [
    "### Non-Backtracking matrix"
   ]
  },
  {
   "cell_type": "markdown",
   "metadata": {},
   "source": [
    "The fundamental matrix used is the Non-Backtracking matrix (or NB-matrix). The NB-matrix of a graph is computed using `nb_matrix`. This matrix has a number of rows and columns equal to twice the number of edges in the graph."
   ]
  },
  {
   "cell_type": "code",
   "execution_count": 3,
   "metadata": {},
   "outputs": [
    {
     "data": {
      "text/plain": [
       "(156, (156, 156))"
      ]
     },
     "execution_count": 3,
     "metadata": {},
     "output_type": "execute_result"
    }
   ],
   "source": [
    "nbm = inbox.nb_matrix(graph)\n",
    "2*graph.size(), nbm.shape"
   ]
  },
  {
   "cell_type": "markdown",
   "metadata": {},
   "source": [
    "A different version of the NB-matrix is the auxiliary NB-matrix. This is a smaller matrix, with size equal to twice the number of nodes of the graph."
   ]
  },
  {
   "cell_type": "code",
   "execution_count": 4,
   "metadata": {},
   "outputs": [
    {
     "data": {
      "text/plain": [
       "(68, (68, 68))"
      ]
     },
     "execution_count": 4,
     "metadata": {},
     "output_type": "execute_result"
    }
   ],
   "source": [
    "aux = inbox.nb_matrix(graph, aux=True)\n",
    "2*graph.order(), aux.shape"
   ]
  },
  {
   "cell_type": "markdown",
   "metadata": {},
   "source": [
    "The utility of the auxiliary version is that all its eigenvalues are also eigenvalue of the NB-matrix."
   ]
  },
  {
   "cell_type": "code",
   "execution_count": 5,
   "metadata": {},
   "outputs": [
    {
     "data": {
      "text/plain": [
       "True"
      ]
     },
     "execution_count": 5,
     "metadata": {},
     "output_type": "execute_result"
    }
   ],
   "source": [
    "nbm_vals = sparse.linalg.eigs(nbm, k=10, return_eigenvectors=False)\n",
    "aux_vals = sparse.linalg.eigs(aux, k=10, return_eigenvectors=False)\n",
    "nbm_vals.sort()\n",
    "aux_vals.sort()\n",
    "np.allclose(nbm_vals, aux_vals)"
   ]
  },
  {
   "cell_type": "markdown",
   "metadata": {},
   "source": [
    "The rows and columns of the NB-matrix are indexed by directed edges of the graph, even if the graph is undirected. The rows and columns of the NB-matrix are by default sorted as follows. The first $m$ rows correspond to the edges in the orientation found in the NetworkX graph. The last $m$ edges correspond to the opposite orientations, in the same order. That is to say, if the first edge returned by `graph.edges()` is `(u ,v)`, then the first row corresponds to the directed edge `u -> v`, while the $m^{th}$ row corresponds to the directed edge `v -> u`."
   ]
  },
  {
   "cell_type": "markdown",
   "metadata": {},
   "source": [
    "This row order creates a rather appealing visual structure in the matrix."
   ]
  },
  {
   "cell_type": "code",
   "execution_count": 6,
   "metadata": {},
   "outputs": [
    {
     "data": {
      "image/png": "[encoded data removed]",
      "text/plain": [
       "<Figure size 432x288 with 1 Axes>"
      ]
     },
     "metadata": {
      "needs_background": "light"
     },
     "output_type": "display_data"
    }
   ],
   "source": [
    "plt.imshow(nbm.A);"
   ]
  },
  {
   "cell_type": "markdown",
   "metadata": {},
   "source": [
    "The auxiliary NB-matrix is a $2 \\times 2$ block matrix whose bottom right block is the adjacency matrix of the graph."
   ]
  },
  {
   "cell_type": "code",
   "execution_count": 7,
   "metadata": {},
   "outputs": [
    {
     "data": {
      "image/png": "[encoded data removed]",
      "text/plain": [
       "<Figure size 432x288 with 2 Axes>"
      ]
     },
     "metadata": {
      "needs_background": "light"
     },
     "output_type": "display_data"
    }
   ],
   "source": [
    "_, axes = plt.subplots(1, 2);\n",
    "aux_plot = aux.A\n",
    "aux_plot[aux_plot == 0] = 'nan'\n",
    "axes[0].imshow(aux_plot);\n",
    "axes[0].set_title('Auxiliary NB-matrix')\n",
    "\n",
    "adj_plot = nx.adjacency_matrix(graph).A.astype('d')\n",
    "adj_plot[adj_plot == 0] = 'nan'\n",
    "axes[1].imshow(adj_plot);\n",
    "axes[1].set_title('Adjacency matrix');"
   ]
  },
  {
   "cell_type": "markdown",
   "metadata": {},
   "source": [
    "As can be seen, there is a very rich structure in the rows and columns of these matrices."
   ]
  },
  {
   "cell_type": "markdown",
   "metadata": {},
   "source": [
    "### The permutation matrix"
   ]
  },
  {
   "cell_type": "markdown",
   "metadata": {},
   "source": [
    "The NB-matrix is not symmetric and therefore its spectral analysis can become cumbersome. However, it contains non-standard forms of symmetry. Concretely, a permutation of its rows and columns will make it symmetric."
   ]
  },
  {
   "cell_type": "code",
   "execution_count": 8,
   "metadata": {},
   "outputs": [
    {
     "data": {
      "image/png": "[encoded data removed]",
      "text/plain": [
       "<Figure size 432x288 with 3 Axes>"
      ]
     },
     "metadata": {
      "needs_background": "light"
     },
     "output_type": "display_data"
    }
   ],
   "source": [
    "perm = inbox.perm_matrix(nbm.shape[0] // 2)\n",
    "_, axes = plt.subplots(1, 3, sharey=True);\n",
    "axes[0].imshow(perm.A);\n",
    "axes[0].set_title(r'Permutation $P$');\n",
    "axes[1].imshow(nbm.A);\n",
    "axes[1].set_title(r'NB-matrix $B$');\n",
    "axes[2].imshow(perm.dot(nbm).A);\n",
    "axes[2].set_title(r'$PB$');"
   ]
  },
  {
   "cell_type": "markdown",
   "metadata": {},
   "source": [
    "Note that the order of rows and columns is extremeley important in all the above computations, and choosing a different basis will invalidate these properties."
   ]
  },
  {
   "cell_type": "markdown",
   "metadata": {},
   "source": [
    "### Half incidence matrices"
   ]
  },
  {
   "cell_type": "markdown",
   "metadata": {},
   "source": [
    "The half incidence matrices are two rectangular matrices that are used when computing the NB-matrix and other associated computations. They store information about the incidence of directed edges to their (source and target) endpoints. By default, the columns are sorted in the same way as the NB-matrix. Once again, the order is extremely important."
   ]
  },
  {
   "cell_type": "code",
   "execution_count": 9,
   "metadata": {},
   "outputs": [
    {
     "data": {
      "image/png": "[encoded data removed]",
      "text/plain": [
       "<Figure size 432x288 with 2 Axes>"
      ]
     },
     "metadata": {
      "needs_background": "light"
     },
     "output_type": "display_data"
    }
   ],
   "source": [
    "source, target = inbox.half_incidence(graph)\n",
    "_, axes = plt.subplots(1, 2, sharey=True);\n",
    "axes[0].imshow(source.A);\n",
    "axes[0].set_title(r'Source $S$');\n",
    "axes[1].imshow(target.A);\n",
    "axes[1].set_title(r'Target $T$');"
   ]
  },
  {
   "cell_type": "markdown",
   "metadata": {},
   "source": [
    "Note that the product of the source and target matrices is *almost* the NB-matrix, but not quite."
   ]
  },
  {
   "cell_type": "code",
   "execution_count": 10,
   "metadata": {},
   "outputs": [
    {
     "data": {
      "image/png": "[encoded data removed]",
      "text/plain": [
       "<Figure size 432x288 with 2 Axes>"
      ]
     },
     "metadata": {
      "needs_background": "light"
     },
     "output_type": "display_data"
    }
   ],
   "source": [
    "_, axes = plt.subplots(1, 2, sharey=True)\n",
    "axes[0].imshow(source.T.dot(target).A);\n",
    "axes[0].set_title(r'Product $ST$')\n",
    "axes[1].imshow(nbm.A);\n",
    "axes[1].set_title(r'NB-matrix $B$');"
   ]
  },
  {
   "cell_type": "markdown",
   "metadata": {},
   "source": [
    "In fact, the product of soruce and target minus the permutation matrix equals the NB-matrix"
   ]
  },
  {
   "cell_type": "code",
   "execution_count": 11,
   "metadata": {},
   "outputs": [
    {
     "data": {
      "text/plain": [
       "True"
      ]
     },
     "execution_count": 11,
     "metadata": {},
     "output_type": "execute_result"
    }
   ],
   "source": [
    "np.allclose((source.T.dot(target) - perm).A, nbm.A)"
   ]
  },
  {
   "cell_type": "markdown",
   "metadata": {},
   "source": [
    "### X matrix"
   ]
  },
  {
   "cell_type": "markdown",
   "metadata": {},
   "source": [
    "The `X` matrix is used when defining the `X`-centrality framework, in particular the `X`-Non-Backtracking centrality and `X`-degree centrality. `inbox` can compute the `X` matrix in both cases of node removal or node addition. Further, `inbox` can also compute the `X`-centrality measures, as discussed in the Section."
   ]
  },
  {
   "cell_type": "markdown",
   "metadata": {},
   "source": [
    "#### Node removal"
   ]
  },
  {
   "cell_type": "markdown",
   "metadata": {},
   "source": [
    "Removing a node from the graph is equivalent to removing some rows from the NB-matrix. By re-arranging the rows and columns, we can get a nice block formation for the NB-matrix. However, this must be made carefully since the row order is so important."
   ]
  },
  {
   "cell_type": "markdown",
   "metadata": {},
   "source": [
    "To see what these blocks are when removing a node, we can do the following,"
   ]
  },
  {
   "cell_type": "code",
   "execution_count": 12,
   "metadata": {},
   "outputs": [],
   "source": [
    "node_to_remove = 2\n",
    "B, D, E, F = inbox.x_matrix(graph, remove_node=node_to_remove, return_all=True)"
   ]
  },
  {
   "cell_type": "markdown",
   "metadata": {},
   "source": [
    "Now, the matrix \n",
    "\n",
    "    [B', D]\n",
    "    [E , F]\n",
    "\n",
    "is the same as the NB-matrix, but with reordered rows and columns. `E` is indexed in the rows by those that would be removed when removing the node, while the same is true for the columns of `D`. `F` is completely removed when removing the node."
   ]
  },
  {
   "cell_type": "code",
   "execution_count": 13,
   "metadata": {},
   "outputs": [
    {
     "data": {
      "image/png": "[encoded data removed]",
      "text/plain": [
       "<Figure size 432x288 with 2 Axes>"
      ]
     },
     "metadata": {
      "needs_background": "light"
     },
     "output_type": "display_data"
    }
   ],
   "source": [
    "_, axes = plt.subplots(1, 2)\n",
    "axes[0].imshow(sparse.bmat([[B, D],\n",
    "                            [E, F]]).A);\n",
    "axes[0].set_title(r'Standard row order')\n",
    "axes[1].imshow(nbm.A);\n",
    "axes[1].set_title(r'Block form');"
   ]
  },
  {
   "cell_type": "markdown",
   "metadata": {},
   "source": [
    "Therefore, the NB-matrix of the graph after removing the node is exactly equal to `B'`, the top-left block, but we did not need to recompute the new order of rows and columns."
   ]
  },
  {
   "cell_type": "markdown",
   "metadata": {},
   "source": [
    "Finally, the `X` matrix is defined as the product of `D`, `F`, `E`. In fact, it can be computed directly by using `return_all=False`,"
   ]
  },
  {
   "cell_type": "code",
   "execution_count": 14,
   "metadata": {},
   "outputs": [
    {
     "data": {
      "text/plain": [
       "True"
      ]
     },
     "execution_count": 14,
     "metadata": {},
     "output_type": "execute_result"
    }
   ],
   "source": [
    "X = D.dot(F).dot(E)\n",
    "\n",
    "# Use return_all=False to get only the X matrix\n",
    "X2 = inbox.x_matrix(graph, remove_node=node_to_remove, return_all=False)\n",
    "\n",
    "np.allclose(X2.A, X.A)"
   ]
  },
  {
   "cell_type": "markdown",
   "metadata": {},
   "source": [
    "#### Node addition"
   ]
  },
  {
   "cell_type": "markdown",
   "metadata": {},
   "source": [
    "When adding a new node to the graph, the NB-matrix can be put in a similar block form as before. In this case, `F` is a whole new block of the new matrix, while `E` is indexed in the rows by the newly added directed edges, while the same is true for the columns of `D`. In this case, the NB-matrix of the graph after node addition is\n",
    "\n",
    "    [B D]\n",
    "    [E F],\n",
    "    \n",
    "where `B` is the NB-matrix of the original graph before node addition. `x_matrix` can also compute the blocks in this case, by specifying the neighbors of the node to be added, rather than a node to be removed. This is done via `add_neighbors`."
   ]
  },
  {
   "cell_type": "code",
   "execution_count": 15,
   "metadata": {},
   "outputs": [
    {
     "data": {
      "text/plain": [
       "True"
      ]
     },
     "execution_count": 15,
     "metadata": {},
     "output_type": "execute_result"
    }
   ],
   "source": [
    "B, D, E, F = inbox.x_matrix(graph, add_neighbors=[0, 13, 30], return_all=True)\n",
    "X = D.dot(F).dot(E)\n",
    "X2 = inbox.x_matrix(graph, add_neighbors=[0, 13, 30], return_all=False)\n",
    "np.allclose(X.A, X2.A)"
   ]
  },
  {
   "cell_type": "markdown",
   "metadata": {},
   "source": [
    "Note that `x_matrix` function never adds or removes a node from the graph, but only returns the `X` matrix, or the blocks `B`, `D`, `E`, `F` in an appropriate row order."
   ]
  },
  {
   "cell_type": "markdown",
   "metadata": {},
   "source": [
    "-----\n",
    "\n",
    "# Centralities"
   ]
  },
  {
   "cell_type": "markdown",
   "metadata": {},
   "source": [
    "`inbox` contains functionality to compute several centrality measures. Notably, it can compute X-degree and X-NB centrality. To compute these, it is always better to use the following functions, rather than computing the `X` matrix and directly operating with it."
   ]
  },
  {
   "cell_type": "markdown",
   "metadata": {},
   "source": [
    "### X-NB centrality"
   ]
  },
  {
   "cell_type": "markdown",
   "metadata": {},
   "source": [
    "The first is X-NB centrality, which uses the `X` matrix from above. It is an aggregation of the NB-centralities of a node's neighbors. For details, see the paper."
   ]
  },
  {
   "cell_type": "code",
   "execution_count": 16,
   "metadata": {},
   "outputs": [],
   "source": [
    "xnb_cent = inbox.x_nb_centrality(graph)"
   ]
  },
  {
   "cell_type": "markdown",
   "metadata": {},
   "source": [
    "### X-degree centrality"
   ]
  },
  {
   "cell_type": "markdown",
   "metadata": {},
   "source": [
    "The second is X-degree centrality, which is an aggregation of a node's neighbors' degrees."
   ]
  },
  {
   "cell_type": "code",
   "execution_count": 17,
   "metadata": {},
   "outputs": [],
   "source": [
    "xdeg_cent = inbox.x_degree(graph)"
   ]
  },
  {
   "cell_type": "markdown",
   "metadata": {},
   "source": [
    "### General X-centrality"
   ]
  },
  {
   "cell_type": "markdown",
   "metadata": {},
   "source": [
    "One can also compute arbitrary centrality measures using the `X` matrix. If `vector` contains a centrality value for each directed edge (with elements sorted in the same row order as the NB-matrix), then one can use the following to transform these values into node centralities,"
   ]
  },
  {
   "cell_type": "code",
   "execution_count": 18,
   "metadata": {},
   "outputs": [],
   "source": [
    "directed_edge_centralities = np.random.random(size=2*graph.size())\n",
    "x_cent = inbox.x_centrality(graph, directed_edge_centralities)"
   ]
  },
  {
   "cell_type": "markdown",
   "metadata": {},
   "source": [
    "### NB centrality"
   ]
  },
  {
   "cell_type": "markdown",
   "metadata": {},
   "source": [
    "NB-centrality was first proposed by [[1](#ref-1)]  as an alternative to the standard eigenvector centrality that is more robust to localization."
   ]
  },
  {
   "cell_type": "code",
   "execution_count": 19,
   "metadata": {},
   "outputs": [],
   "source": [
    "nb_cent = inbox.nb_centrality(graph)"
   ]
  },
  {
   "cell_type": "markdown",
   "metadata": {},
   "source": [
    "NB-centrality is by default normalized in an appropriate way (see paper for details). An unnormalized version is also available. The unnormalized version is slightly more efficient to compute (in the order of $O(n)$)."
   ]
  },
  {
   "cell_type": "code",
   "execution_count": 20,
   "metadata": {},
   "outputs": [],
   "source": [
    "nb_cent_unnormalized = inbox.nb_centrality(graph, normalized=False)"
   ]
  },
  {
   "cell_type": "markdown",
   "metadata": {},
   "source": [
    "Note: in the course of computing `nb_centrality`, the leading eigenvalue of the NB-matrix of the graph is computed, and can also be returned by using the option `return_eigenvalue=True`."
   ]
  },
  {
   "cell_type": "markdown",
   "metadata": {},
   "source": [
    "### Collective Influence"
   ]
  },
  {
   "cell_type": "markdown",
   "metadata": {},
   "source": [
    "Finally, collective influence was proposed by [[3](#ref-3)] as another centrality measure based on the NB-matrix. `inbox` considers only the immediate neighbors of a node to compute its collective influence, but generalizations are possible."
   ]
  },
  {
   "cell_type": "code",
   "execution_count": 21,
   "metadata": {},
   "outputs": [],
   "source": [
    "ci_cent = inbox.collective_influence(graph)"
   ]
  },
  {
   "cell_type": "markdown",
   "metadata": {},
   "source": [
    "### Visualization"
   ]
  },
  {
   "cell_type": "markdown",
   "metadata": {},
   "source": [
    "When putting together all centrality measures we get the following picture of the network."
   ]
  },
  {
   "cell_type": "code",
   "execution_count": 22,
   "metadata": {},
   "outputs": [
    {
     "data": {
      "image/png": "[encoded data removed]",
      "text/plain": [
       "<Figure size 432x288 with 1 Axes>"
      ]
     },
     "metadata": {
      "needs_background": "light"
     },
     "output_type": "display_data"
    }
   ],
   "source": [
    "# As a baseline, also show degree\n",
    "deg_cent = dict(graph.degree())\n",
    "\n",
    "scatter = lambda c, l: plt.scatter([n for n in graph], [c[n] for n in graph], label=l)\n",
    "scatter(deg_cent, 'Degree');\n",
    "scatter(nb_cent, 'NB');\n",
    "scatter(xnb_cent, 'X-NB');\n",
    "scatter(xdeg_cent, 'X-deg');\n",
    "scatter(ci_cent, 'CI');\n",
    "plt.yscale('symlog');\n",
    "plt.xlabel('Node label');\n",
    "plt.ylabel('Centrality');\n",
    "plt.legend();"
   ]
  },
  {
   "cell_type": "markdown",
   "metadata": {},
   "source": [
    "As can be seen, they are all highly correlated to each other. CI and X-deg can be computed most efficiently. X-NB and X-deg are the best choices for immunization purposes."
   ]
  },
  {
   "cell_type": "markdown",
   "metadata": {},
   "source": [
    "-----\n",
    "\n",
    "# Immunization"
   ]
  },
  {
   "cell_type": "markdown",
   "metadata": {},
   "source": [
    "Targeted immunization works by (i) computing a score of each node, (ii) removing the node with the highest score, and (iii) iterating until the target number of nodes has been removed. Importantly, the score has to be recomputed at each step. `inbox` provides functionality to perform targeted immunization using all of the above centrality measures to compute the score. Among these, X-degree and CI are the fastest computationally, though X-NB was observed to be the most effective."
   ]
  },
  {
   "cell_type": "code",
   "execution_count": 23,
   "metadata": {},
   "outputs": [],
   "source": [
    "removed_nodes, new_graph = inbox.immunize(graph, 5, strategy='xdeg')"
   ]
  },
  {
   "cell_type": "markdown",
   "metadata": {},
   "source": [
    "`inbox.immunize` supports the following strategies for computing the score: `deg` (degree), `core` ($k$-core index, or coreness), `nb` (NB centrality), `xnb` (X-NB centrality), `xdeg` (X-degree centrality), `ci` (Collective Influence), `ns` (NetShield). NetShield [[4](#ref-4)] is an efficient algorithm based on the adjacency matrix, not on the NB-matrix."
   ]
  },
  {
   "cell_type": "markdown",
   "metadata": {},
   "source": [
    "In our work, we evaluate the effectiveness of targeted immunization by computing the difference between the leading eigenvalue of the NB-matrix of the graph before and after immunization. We call this difference the eigen-drop."
   ]
  },
  {
   "cell_type": "code",
   "execution_count": 24,
   "metadata": {},
   "outputs": [],
   "source": [
    "eig = lambda g: sparse.linalg.eigs(\n",
    "    inbox.nb_matrix(g, aux=True),\n",
    "    k=1, return_eigenvectors=False,\n",
    "    tol=1e-4)[0].real\n",
    "\n",
    "eig_before = eig(graph)"
   ]
  },
  {
   "cell_type": "code",
   "execution_count": 25,
   "metadata": {},
   "outputs": [],
   "source": [
    "all_strategies = ['xdeg', 'ci', 'deg', 'ns', 'core', 'nb' ,'xnb']\n",
    "eigen_drop = {}\n",
    "for strategy in all_strategies:\n",
    "    _, new_graph = inbox.immunize(graph, 3, strategy=strategy)\n",
    "    eigen_drop[strategy] = eig_before - eig(new_graph)"
   ]
  },
  {
   "cell_type": "markdown",
   "metadata": {},
   "source": [
    "A larger eigen-drop means more efficient immunization:"
   ]
  },
  {
   "cell_type": "code",
   "execution_count": 26,
   "metadata": {},
   "outputs": [
    {
     "name": "stdout",
     "output_type": "stream",
     "text": [
      "xdeg\teigen-drop: 3.229.\n",
      "xnb\teigen-drop: 3.229.\n",
      "nb\teigen-drop: 3.229.\n",
      "ns\teigen-drop: 3.229.\n",
      "ci\teigen-drop: 3.229.\n",
      "deg\teigen-drop: 2.554.\n",
      "core\teigen-drop: 1.196.\n"
     ]
    }
   ],
   "source": [
    "order = sorted(eigen_drop, key=eigen_drop.get, reverse=True)\n",
    "for s in order:\n",
    "    print('{}\\teigen-drop: {:.3f}.'.format(s, eigen_drop[s]))"
   ]
  },
  {
   "cell_type": "markdown",
   "metadata": {},
   "source": [
    "A few strategies achieve the same eigen-drop because they are identifying the exact same nodes for removal (possibly in different order). However, in a more involved experiment below, using Barabasi-Albert networks, the strategies start to differ, as shown by the average eigen-drop. **Warning: the following cell may take several minutes to compute**."
   ]
  },
  {
   "cell_type": "code",
   "execution_count": 27,
   "metadata": {},
   "outputs": [],
   "source": [
    "import os\n",
    "from multiprocessing import Pool\n",
    "\n",
    "def run_all(idx):\n",
    "    graph = nx.barabasi_albert_graph(1000, 4)\n",
    "    eig_before = eig(graph)\n",
    "    eigen_drop = {s: 0 for s in all_strategies}\n",
    "    for strategy in all_strategies:\n",
    "        _, new_graph = inbox.immunize(graph, 10, strategy=strategy)\n",
    "        eigen_drop[strategy] = eig_before - eig(new_graph)\n",
    "    return eigen_drop\n",
    "\n",
    "    \n",
    "num_graphs = 30\n",
    "with Pool(processes=os.cpu_count() - 1) as pool:\n",
    "    results = pool.map(run_all, range(num_graphs))\n",
    "    \n",
    "eigen_drop = {s: sum(r[s] for r in results) / num_graphs  for s in all_strategies}"
   ]
  },
  {
   "cell_type": "code",
   "execution_count": 28,
   "metadata": {
    "scrolled": true
   },
   "outputs": [
    {
     "name": "stdout",
     "output_type": "stream",
     "text": [
      "Strategy\tAverage eigen-drop\n",
      "nb\t\t5.390\n",
      "xnb\t\t5.384\n",
      "xdeg\t\t5.383\n",
      "ci\t\t5.375\n",
      "deg\t\t5.324\n",
      "ns\t\t5.313\n",
      "core\t\t4.355\n"
     ]
    }
   ],
   "source": [
    "order = sorted(eigen_drop, key=eigen_drop.get, reverse=True)\n",
    "print('Strategy\\tAverage eigen-drop')\n",
    "for s in order:\n",
    "    print('{}\\t\\t{:.3f}'.format(s, eigen_drop[s]))"
   ]
  },
  {
   "cell_type": "markdown",
   "metadata": {},
   "source": [
    "## Minimum degree of nodes for immunization"
   ]
  },
  {
   "cell_type": "markdown",
   "metadata": {},
   "source": [
    "Nodes of degree 1 always have a zero value of X-degree, X-NB centrality, NB-centrality, and Collective Influence. Therefore, they will never be picked for immunization. For this purpose, `inbox` allows the user to specify the minimum degree of nodes to be considered. When using the aforementioned strategies, this is always faster and will yield the same output. For other strategies, this is always faster though the output may differ."
   ]
  },
  {
   "cell_type": "code",
   "execution_count": 29,
   "metadata": {},
   "outputs": [
    {
     "name": "stdout",
     "output_type": "stream",
     "text": [
      "113 ms ± 37.3 ms per loop (mean ± std. dev. of 7 runs, 10 loops each)\n"
     ]
    }
   ],
   "source": [
    "# Remove nodes of degree 0 or 1 \n",
    "%timeit inbox.immunize(nx.barabasi_albert_graph(1000, 4), 10, min_deg=2)"
   ]
  },
  {
   "cell_type": "code",
   "execution_count": 30,
   "metadata": {},
   "outputs": [
    {
     "name": "stdout",
     "output_type": "stream",
     "text": [
      "52.6 ms ± 16.5 ms per loop (mean ± std. dev. of 7 runs, 10 loops each)\n"
     ]
    }
   ],
   "source": [
    "# Faster: remove nodes of degree less than 8\n",
    "%timeit inbox.immunize(nx.barabasi_albert_graph(1000, 4), 10, min_deg=8)"
   ]
  },
  {
   "cell_type": "markdown",
   "metadata": {},
   "source": [
    "-----\n",
    "# Implementation Notes"
   ]
  },
  {
   "cell_type": "markdown",
   "metadata": {},
   "source": [
    "Here we document some implementation details as well as unexpected behavior or known bugs."
   ]
  },
  {
   "cell_type": "markdown",
   "metadata": {},
   "source": [
    "## Immunization: Queues and dictionaries"
   ]
  },
  {
   "cell_type": "markdown",
   "metadata": {},
   "source": [
    "`inbox.immunization` provides two different versions for the strategies `deg`, `ci`, and `xdeg`. One uses an indexed priority queue to store and update the values at each iteration, while the other uses a standard python dictionary. The dictionary version has a better worst-case scenario runtime, while the queue version was observed to be faster in practice. The queue version is the default, though one can use the dictionary version by setting the parameter `queue` to `False`. See the paper for more details on the runtime complexity."
   ]
  },
  {
   "cell_type": "code",
   "execution_count": 27,
   "metadata": {},
   "outputs": [
    {
     "name": "stdout",
     "output_type": "stream",
     "text": [
      "[2, 33, 0, 30, 23]\n",
      "[2, 33, 0, 30, 23]\n"
     ]
    }
   ],
   "source": [
    "print(inbox.immunize(graph, 5, strategy='xdeg', queue=True)[0])\n",
    "print(inbox.immunize(graph, 5, strategy='xdeg', queue=False)[0])"
   ]
  },
  {
   "cell_type": "markdown",
   "metadata": {},
   "source": [
    "## Immunization: Tie Breaking"
   ]
  },
  {
   "cell_type": "markdown",
   "metadata": {},
   "source": [
    "Ties are broken arbitrarily, i.e. when immunizing using strategy `xdeg`, if two nodes have the exact same value of X-degree, either one can be chosen for immunization, and **it is not guaranteed that the same node will be chosen when running the same algorithm twice**. In particular, using the queue or dictionary versions of `deg`, `ci`, or `xdeg` may yield diferrent results as the underlying data structures may break ties in different ways. In the example below, the first 8 nodes are removed in the same order by the queue and dictionary versions."
   ]
  },
  {
   "cell_type": "code",
   "execution_count": 32,
   "metadata": {},
   "outputs": [
    {
     "name": "stdout",
     "output_type": "stream",
     "text": [
      "[2, 33, 0, 30, 23, 31, 7, 13]\n",
      "[2, 33, 0, 30, 23, 31, 7, 13]\n"
     ]
    }
   ],
   "source": [
    "graph = nx.karate_club_graph()\n",
    "print(inbox.immunize(graph, 8, strategy='xdeg', queue=True)[0])\n",
    "print(inbox.immunize(graph, 8, strategy='xdeg', queue=False)[0])"
   ]
  },
  {
   "cell_type": "markdown",
   "metadata": {},
   "source": [
    "However, the ninth node removed is different."
   ]
  },
  {
   "cell_type": "code",
   "execution_count": 33,
   "metadata": {},
   "outputs": [
    {
     "name": "stdout",
     "output_type": "stream",
     "text": [
      "[6]\n",
      "[5]\n"
     ]
    }
   ],
   "source": [
    "immunized = graph.copy()\n",
    "immunized.remove_nodes_from([2, 33, 0, 30, 23, 31, 7, 13])\n",
    "print(inbox.immunize(immunized, 1, strategy='xdeg', queue=True)[0])\n",
    "print(inbox.immunize(immunized, 1, strategy='xdeg', queue=False)[0])"
   ]
  },
  {
   "cell_type": "markdown",
   "metadata": {},
   "source": [
    "This occurs because the nodes 5 and 6 have the same X-degree centrality after removing the first eight nodes. The queue and map break the tie differently."
   ]
  },
  {
   "cell_type": "code",
   "execution_count": 34,
   "metadata": {},
   "outputs": [
    {
     "name": "stdout",
     "output_type": "stream",
     "text": [
      "10 10\n"
     ]
    }
   ],
   "source": [
    "xdeg = inbox.x_degree(immunized)\n",
    "print(xdeg[5], xdeg[6])"
   ]
  },
  {
   "cell_type": "markdown",
   "metadata": {},
   "source": [
    "Further, removing either node 5 or node 6 has different impact on the X-degree of remaining nodes. Accordingly, the nodes removed thereafter are different."
   ]
  },
  {
   "cell_type": "code",
   "execution_count": 35,
   "metadata": {},
   "outputs": [
    {
     "name": "stdout",
     "output_type": "stream",
     "text": [
      "[6, 10, 16]\n",
      "[5, 32, 1]\n"
     ]
    }
   ],
   "source": [
    "print(inbox.immunize(immunized, 3, strategy='xdeg', queue=True)[0])\n",
    "print(inbox.immunize(immunized, 3, strategy='xdeg', queue=False)[0])"
   ]
  },
  {
   "cell_type": "markdown",
   "metadata": {},
   "source": [
    "In the Karate Club case, this does not have a large impact on the final result, and we do not foresee this becoming a problem for larger graphs either. A deep analysis of tie-breaking strategies is out of scope at this time."
   ]
  },
  {
   "cell_type": "markdown",
   "metadata": {},
   "source": [
    "## Centrality: Connected Components"
   ]
  },
  {
   "cell_type": "markdown",
   "metadata": {},
   "source": [
    "Matrix computations in `inbox` should work for graphs with multiple connected components. The largest eigenvalue, and corresponding eigenvector which in turn determines NB-centrality and X-NB centrality, always corresponds to the largest component."
   ]
  },
  {
   "cell_type": "markdown",
   "metadata": {},
   "source": [
    "However, there is one case to be aware of. In the case where the graph has two connected components **whose 2-cores are isomorphic**, then the principall eigenvector is no longer well-defined. In particular, the NB-centrality and X-NB centralities are no longer well-defined. However, this will happen only in the rarest of cases. Surprisingly, it does occur when immunizing the Karate Club Graph."
   ]
  },
  {
   "cell_type": "code",
   "execution_count": 36,
   "metadata": {},
   "outputs": [
    {
     "data": {
      "image/png": "[encoded data removed]",
      "text/plain": [
       "<Figure size 864x360 with 2 Axes>"
      ]
     },
     "metadata": {},
     "output_type": "display_data"
    }
   ],
   "source": [
    "graph = nx.karate_club_graph()\n",
    "_, immunized = inbox.immunize(graph, 5, strategy='xnb')\n",
    "no_isolates = immunized.subgraph(n for n in immunized if immunized.degree(n) > 0)\n",
    "\n",
    "_, axes = plt.subplots(1, 2, figsize=(12, 5))\n",
    "nx.draw(no_isolates, node_size=30, ax=axes[0], with_labels=False,\n",
    "        node_color=['k', 'b', 'b', 'b', 'k', 'k', 'b', 'k', 'k', 'b', 'b', 'b', 'b', 'k', 'b', 'k', 'k', 'k', 'b'])\n",
    "axes[0].set_title('Karate Club after immunizing\\n5 nodes by X-NB centrality\\n2-core of two largest components in blue\\n(Isolate nodes not shown)');\n",
    "nx.draw(nx.Graph([(0, 1), (1, 2), (2, 3), (3, 4), (4, 0), (4, 1)]), node_size=100, ax=axes[1], node_color='b')\n",
    "axes[1].set_title('Note the two largest components\\nhave 2-cores isomorphic to this graph');\n",
    "plt.subplots_adjust(wspace=0.8)"
   ]
  },
  {
   "cell_type": "markdown",
   "metadata": {},
   "source": [
    "The above plot shows that the 2-cores of the two largest components of the Karate Club graph after immunizing 5 nodes using strategy `xnb` are isomorphic. In this case, both components determine the largest eigenvalues of the NB-matrix, and the principal eigenvector is no longer well-defined. Accordingly, computing the NB-centrality or X-NB-centrality of the graph is no longer supported (the behavior is undefined). In fact, computing the NB-centrality of a node in this pathological case may return different values."
   ]
  },
  {
   "cell_type": "code",
   "execution_count": 37,
   "metadata": {},
   "outputs": [
    {
     "name": "stdout",
     "output_type": "stream",
     "text": [
      "-0.5334363446339787 0.6467638885214784\n"
     ]
    }
   ],
   "source": [
    "print(inbox.nb_centrality(immunized)[4],\n",
    "      inbox.nb_centrality(immunized)[4])"
   ]
  },
  {
   "cell_type": "markdown",
   "metadata": {},
   "source": [
    "And ditto for X-NB centrality."
   ]
  },
  {
   "cell_type": "code",
   "execution_count": 38,
   "metadata": {},
   "outputs": [
    {
     "name": "stdout",
     "output_type": "stream",
     "text": [
      "0.7210095375238408 0.20176071663935585\n"
     ]
    }
   ],
   "source": [
    "print(inbox.x_nb_centrality(immunized)[4],\n",
    "      inbox.x_nb_centrality(immunized)[4])"
   ]
  },
  {
   "cell_type": "markdown",
   "metadata": {},
   "source": [
    "Note that in this case, only the `nb` and `xnb` strategies are affected. The Degree, Core, Collective Influence, and X-degree values are well defined in all cases and there is no problem in continuing to immunize the graph with the corresponding strategies."
   ]
  },
  {
   "cell_type": "code",
   "execution_count": 39,
   "metadata": {},
   "outputs": [
    {
     "name": "stdout",
     "output_type": "stream",
     "text": [
      "4 4\n"
     ]
    }
   ],
   "source": [
    "print(inbox.x_degree(immunized)[4],\n",
    "      inbox.x_degree(immunized)[4])"
   ]
  },
  {
   "cell_type": "markdown",
   "metadata": {},
   "source": [
    "-----\n",
    "\n",
    "## References"
   ]
  },
  {
   "cell_type": "markdown",
   "metadata": {},
   "source": [
    "<span id=\"ref-1\"> [1] Martin, Travis, Xiao Zhang, and Mark EJ Newman. **\"Localization and centrality in networks.\"** Physical review E 90.5 (2014): 052808.</span>\n",
    "\n",
    "<span id=\"ref-2\"> [2] Radicchi, Filippo, and Claudio Castellano. **\"Leveraging percolation theory to single out influential spreaders in networks.\"** Physical Review E 93.6 (2016): 062314.</span>\n",
    "    \n",
    "<span id=\"ref-3\"> [3] Morone, Flaviano, and Hernán A. Makse. **\"Influence maximization in complex networks through optimal percolation.\"** Nature 524.7563 (2015): 65-68.</span>\n",
    "\n",
    "<span id=\"ref-4\"> [4] Chen, Chen, et al. **\"Node immunization on large graphs: Theory and algorithms.\"** IEEE Transactions on Knowledge and Data Engineering 28.1 (2015): 113-126.</span>"
   ]
  }
 ],
 "metadata": {
  "kernelspec": {
   "display_name": "Python 3",
   "language": "python",
   "name": "python3"
  },
  "language_info": {
   "codemirror_mode": {
    "name": "ipython",
    "version": 3
   },
   "file_extension": ".py",
   "mimetype": "text/x-python",
   "name": "python",
   "nbconvert_exporter": "python",
   "pygments_lexer": "ipython3",
   "version": "3.7.5"
  },
  "latex_envs": {
   "LaTeX_envs_menu_present": true,
   "autoclose": false,
   "autocomplete": false,
   "bibliofile": "biblio.bib",
   "cite_by": "apalike",
   "current_citInitial": 1,
   "eqLabelWithNumbers": true,
   "eqNumInitial": 1,
   "hotkeys": {
    "equation": "Ctrl-E",
    "itemize": "Ctrl-I"
   },
   "labels_anchors": false,
   "latex_user_defs": false,
   "report_style_numbering": true,
   "user_envs_cfg": false
  }
 },
 "nbformat": 4,
 "nbformat_minor": 4
}
